{
 "cells": [
  {
   "cell_type": "code",
   "execution_count": null,
   "metadata": {},
   "outputs": [],
   "source": [
    "Find time complexity of below code blocks :\n",
    "Problem 1 :\n",
    "def quicksort(arr):\n",
    "if len(arr) <= 1:\n",
    "return arr\n",
    "pivot = arr[len(arr) // 2]\n",
    "left = [x for x in arr if x < pivot]\n",
    "middle = [x for x in arr if x == pivot]\n",
    "right = [x for x in arr if x > pivot]\n",
    "return quicksort(left) + middle + quicksort(right)\n",
    "\n",
    "Problem 2 :\n",
    "def nested_loop_example(matrix):\n",
    "rows, cols = len(matrix), len(matrix[0])\n",
    "total = 0\n",
    "for i in range(rows):\n",
    "for j in range(cols):\n",
    "total += matrix[i][j]\n",
    "return total\n",
    "\n",
    "Problem 3 :\n",
    "def example_function(arr):\n",
    "result = 0\n",
    "for element in arr:\n",
    "result += element\n",
    "return result\n",
    "\n",
    "Problem 4 :\n",
    "def longest_increasing_subsequence(nums):\n",
    "n = len(nums)\n",
    "lis = [1] * n\n",
    "for i in range(1, n):\n",
    "for j in range(0, i):\n",
    "if nums[i] > nums[j] and lis[i] < lis[j] + 1:\n",
    "lis[i] = lis[j] + 1\n",
    "return max(lis)\n",
    "\n",
    "Practice Question - Creating Classes\n",
    "Problem 5 :\n",
    "def mysterious_function(arr):\n",
    "n = len(arr)\n",
    "result = 0\n",
    "for i in range(n):\n",
    "for j in range(i, n):\n",
    "result += arr[i] * arr[j]\n",
    "return result\n",
    "\n",
    "Problem 6 : Sum of Digits\n",
    "Write a recursive function to calculate the sum of digits of a given positive integer.\n",
    "sum_of_digits(123) -> 6\n",
    "\n",
    "Problem 7: Fibonacci Series\n",
    "Write a recursive function to generate the first n numbers of the Fibonacci series.\n",
    "fibonacci_series(6) -> [0, 1, 1, 2, 3, 5]\n",
    "\n",
    "Problem 8 : Subset Sum\n",
    "Given a set of positive integers and a target sum, write a recursive function to determine if there exists a subset\n",
    "of the integers that adds up to the target sum.\n",
    "subset_sum([3, 34, 4, 12, 5, 2], 9) -> True\n",
    "Solve the following problems on recursion\n",
    "\n",
    "Problem 9: Word Break\n",
    "Given a non-empty string and a dictionary of words, write a recursive function to determine if the string can be\n",
    "segmented into a space-separated sequence of dictionary words.\n",
    "word_break( leetcode , [ leet , code ]) -> True\n",
    "\n",
    "Problem 10 : N-Queens\n",
    "Implement a recursive function to solve the N Queens problem, where you have to place N queens on an N×N\n",
    "chessboard in such a way that no two queens threaten each other.\n",
    "n_queens(4)\n",
    "[\n",
    "[\".Q..\",\n",
    "\"...Q\",\n",
    "\"Q...\",\n",
    "\"..Q.\"],\n",
    "[\"..Q.\",\n",
    "\"Q...\",\n",
    "\"...Q\",\n",
    "\".Q..\"]\n",
    "]"
   ]
  },
  {
   "cell_type": "code",
   "execution_count": null,
   "metadata": {},
   "outputs": [],
   "source": [
    "problem 1\n",
    "# The time complexity of the given quicksort implementation is O(n log n) in the average case."
   ]
  },
  {
   "cell_type": "code",
   "execution_count": null,
   "metadata": {},
   "outputs": [],
   "source": [
    "# problem 2\n",
    "# The time complexity of the given nested loop example is linear with respect to the number of elements in the matrix, and it can be expressed as O(n)."
   ]
  },
  {
   "cell_type": "code",
   "execution_count": null,
   "metadata": {},
   "outputs": [],
   "source": [
    "# problem 3\n",
    "# The time complexity of the given example function is linear with respect to the number of elements in the input array, and it can be expressed as O(n)."
   ]
  },
  {
   "cell_type": "code",
   "execution_count": null,
   "metadata": {},
   "outputs": [],
   "source": [
    "# problem 4\n",
    "#  The time complexity of the given function for finding the length of the longest increasing subsequence is O(n^2) in the worst case."
   ]
  },
  {
   "cell_type": "code",
   "execution_count": null,
   "metadata": {},
   "outputs": [],
   "source": [
    "# problem 5\n",
    "# The time complexity of the mysterious_function is O(n^2)."
   ]
  },
  {
   "cell_type": "code",
   "execution_count": 1,
   "metadata": {},
   "outputs": [
    {
     "name": "stdout",
     "output_type": "stream",
     "text": [
      "3\n"
     ]
    }
   ],
   "source": [
    "#problem 6\n",
    "def summing(num):\n",
    "    if num == 0:\n",
    "        return 0\n",
    "    return num % 10 + summing(num//10)\n",
    "x = int(input(\"enter\"))\n",
    "print(summing(x))"
   ]
  },
  {
   "cell_type": "code",
   "execution_count": 5,
   "metadata": {},
   "outputs": [
    {
     "name": "stdout",
     "output_type": "stream",
     "text": [
      "[0, 1, 1, 2, 3]\n"
     ]
    }
   ],
   "source": [
    "# problem 7 \n",
    "def fibo_seri(n):\n",
    "    if n <= 0:\n",
    "        return []\n",
    "    elif n == 1:\n",
    "        return [0]\n",
    "    elif n == 2:\n",
    "        return [0,1]\n",
    "    else:\n",
    "        fib_ser = fibo_seri(n-1)\n",
    "        fib_ser.append(fib_ser[-1] + fib_ser[-2] )\n",
    "        return fib_ser\n",
    "n = int(input('enter'))\n",
    "print(fibo_seri(n))"
   ]
  },
  {
   "cell_type": "code",
   "execution_count": null,
   "metadata": {},
   "outputs": [],
   "source": [
    "def subset_sum(nums, target):\n",
    "    # Base Cases\n",
    "    if target == 0:\n",
    "        return True\n",
    "    if len(nums) == 0:\n",
    "        return False\n",
    "    \n",
    "    # Consider the last element in the list\n",
    "    last_element = nums[-1]\n",
    "    \n",
    "    # Exclude the last element and recur\n",
    "    exclude_last = subset_sum(nums[:-1], target)\n",
    "    \n",
    "    # Include the last element and recur\n",
    "    if last_element <= target:\n",
    "        include_last = subset_sum(nums[:-1], target - last_element)\n",
    "        return exclude_last or include_last\n",
    "    else:\n",
    "        # Only option is to exclude the last element\n",
    "        return exclude_last\n",
    "\n",
    "# Test the function\n",
    "nums = [3, 34, 4, 12, 5, 2]\n",
    "target = 9\n",
    "print(subset_sum(nums, target))  # Output: True\n"
   ]
  },
  {
   "cell_type": "code",
   "execution_count": null,
   "metadata": {},
   "outputs": [],
   "source": [
    "def word_break(s, word_dict):\n",
    "    # Base Case\n",
    "    if len(s) == 0:\n",
    "        return True\n",
    "    \n",
    "    # Try every possible prefix of the string\n",
    "    for i in range(1, len(s) + 1):\n",
    "        prefix = s[:i]\n",
    "        \n",
    "        # If the prefix is in the dictionary, recursively check the rest of the string\n",
    "        if prefix in word_dict:\n",
    "            suffix = s[i:]\n",
    "            if word_break(suffix, word_dict):\n",
    "                return True\n",
    "    \n",
    "    # If no valid segmentation found, return False\n",
    "    return False\n",
    "\n",
    "# Test the function\n",
    "s = \"leetcode\"\n",
    "word_dict = [\"leet\", \"code\"]\n",
    "print(word_break(s, word_dict))  # Output: True\n"
   ]
  },
  {
   "cell_type": "code",
   "execution_count": null,
   "metadata": {},
   "outputs": [],
   "source": [
    "def is_safe(board, row, col, n):\n",
    "    # Check column\n",
    "    for i in range(row):\n",
    "        if board[i][col] == 'Q':\n",
    "            return False\n",
    "    \n",
    "    # Check upper left diagonal\n",
    "    i, j = row, col\n",
    "    while i >= 0 and j >= 0:\n",
    "        if board[i][j] == 'Q':\n",
    "            return False\n",
    "        i -= 1\n",
    "        j -= 1\n",
    "    \n",
    "    # Check upper right diagonal\n",
    "    i, j = row, col\n",
    "    while i >= 0 and j < n:\n",
    "        if board[i][j] == 'Q':\n",
    "            return False\n",
    "        i -= 1\n",
    "        j += 1\n",
    "    \n",
    "    return True\n",
    "\n",
    "def solve_n_queens(n):\n",
    "    def backtrack(row):\n",
    "        # Base case: If all queens are placed\n",
    "        if row == n:\n",
    "            solution = [\"\".join(r) for r in board]\n",
    "            result.append(solution)\n",
    "            return\n",
    "        \n",
    "        # Try placing a queen in each column\n",
    "        for col in range(n):\n",
    "            if is_safe(board, row, col, n):\n",
    "                board[row][col] = 'Q'  # Place the queen\n",
    "                backtrack(row + 1)     # Recur to place the next queen\n",
    "                board[row][col] = '.'  # Backtrack: Remove the queen\n",
    "    \n",
    "    board = [['.' for _ in range(n)] for _ in range(n)]\n",
    "    result = []\n",
    "    backtrack(\n"
   ]
  }
 ],
 "metadata": {
  "kernelspec": {
   "display_name": "Python 3.8.10 64-bit",
   "language": "python",
   "name": "python3"
  },
  "language_info": {
   "codemirror_mode": {
    "name": "ipython",
    "version": 3
   },
   "file_extension": ".py",
   "mimetype": "text/x-python",
   "name": "python",
   "nbconvert_exporter": "python",
   "pygments_lexer": "ipython3",
   "version": "3.8.10"
  },
  "orig_nbformat": 4,
  "vscode": {
   "interpreter": {
    "hash": "e7370f93d1d0cde622a1f8e1c04877d8463912d04d973331ad4851f04de6915a"
   }
  }
 },
 "nbformat": 4,
 "nbformat_minor": 2
}
